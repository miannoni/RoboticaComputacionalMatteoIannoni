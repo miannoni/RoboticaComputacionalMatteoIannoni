{
 "cells": [
  {
   "cell_type": "markdown",
   "metadata": {},
   "source": [
    "# Transformações geométricas - APS de Visão"
   ]
  },
  {
   "cell_type": "markdown",
   "metadata": {},
   "source": [
    "## Criação da imagem"
   ]
  },
  {
   "cell_type": "markdown",
   "metadata": {},
   "source": [
    "Vamos gerar uma imagem de entrada com algumas coordenadas conhecidas.  Desta seção você só vai precisar das coordenadas dos pontos na imagem de entrada e na imagem de saída"
   ]
  },
  {
   "cell_type": "code",
   "execution_count": 5,
   "metadata": {
    "collapsed": true
   },
   "outputs": [],
   "source": [
    "import matplotlib.pyplot as plt\n",
    "\n",
    "from matplotlib import colors\n",
    "\n",
    "import cv2\n",
    "\n",
    "import numpy as np\n",
    "\n",
    "%matplotlib inline\n",
    "\n",
    "\n",
    "sp_x = 30\n",
    "sp_y = 30\n",
    "x_blocks = 6\n",
    "y_blocks = 6"
   ]
  },
  {
   "cell_type": "code",
   "execution_count": 2,
   "metadata": {
    "collapsed": true
   },
   "outputs": [],
   "source": [
    "# Cria uma imagem RGB  em branco\n",
    "blank = 255*np.ones((sp_x * x_blocks,sp_y*y_blocks,3), np.uint8)"
   ]
  },
  {
   "cell_type": "code",
   "execution_count": 3,
   "metadata": {
    "collapsed": true
   },
   "outputs": [],
   "source": [
    "# Coordenadas de entrada de alguns pontos\n",
    "points = [[1,1],\n",
    "          [5,1],\n",
    "          [1,3],\n",
    "          [3,3],\n",
    "          [5,3],\n",
    "          [1,5],\n",
    "          [5,5]]"
   ]
  },
  {
   "cell_type": "code",
   "execution_count": 4,
   "metadata": {
    "collapsed": true
   },
   "outputs": [],
   "source": [
    "# Cores a usar para os pontos\n",
    "point_colors = ['r', 'g', 'b', 'c', 'm', 'y', 'k']"
   ]
  },
  {
   "cell_type": "markdown",
   "metadata": {},
   "source": [
    "## Coordenadas dos pontos na imagem de entrada\n",
    "\n",
    "Este loop imprime as coordenadas.\n",
    "\n",
    "As cores dos pontos servem para identificá-los"
   ]
  },
  {
   "cell_type": "code",
   "execution_count": 5,
   "metadata": {},
   "outputs": [
    {
     "name": "stdout",
     "output_type": "stream",
     "text": [
      "Posição dos pontos: (x_entrada, y_entrada)\n",
      "(30, 30)\n",
      "(150, 30)\n",
      "(30, 90)\n",
      "(90, 90)\n",
      "(150, 90)\n",
      "(30, 150)\n",
      "(150, 150)\n"
     ]
    }
   ],
   "source": [
    "sp_x = 30 # x spacing\n",
    "sp_y = 30 # y spacing\n",
    "point_size = 5\n",
    "print(\"Posição dos pontos: (x_entrada, y_entrada)\")\n",
    "\n",
    "for i in range(len(points)):\n",
    "    point_color = [int(255*canal) for canal in colors.colorConverter.colors[point_colors[i]]]\n",
    "    point_position = (sp_x*points[i][0], sp_y*points[i][1])\n",
    "    print(point_position)\n",
    "    cv2.circle(blank,point_position, point_size, point_color, -1)\n"
   ]
  },
  {
   "cell_type": "markdown",
   "metadata": {},
   "source": [
    "## Imagem de entrada"
   ]
  },
  {
   "cell_type": "markdown",
   "metadata": {},
   "source": [
    "Tudo o que foi geito até agora teve como única finalidade gerar esta imagem, que será gravada no arquivo `dots_pattern.png` ."
   ]
  },
  {
   "cell_type": "code",
   "execution_count": 6,
   "metadata": {},
   "outputs": [
    {
     "data": {
      "text/plain": [
       "<matplotlib.image.AxesImage at 0x9e425f8>"
      ]
     },
     "execution_count": 6,
     "metadata": {},
     "output_type": "execute_result"
    },
    {
     "data": {
      "image/png": "[encoded data removed]",
      "text/plain": [
       "<matplotlib.figure.Figure at 0x6c363c8>"
      ]
     },
     "metadata": {},
     "output_type": "display_data"
    }
   ],
   "source": [
    "plt.imshow(blank)"
   ]
  },
  {
   "cell_type": "markdown",
   "metadata": {},
   "source": [
    "Se precisar abrir a imagem fora deste *notebook*, use o arquivo `dots_pattern.png`\n"
   ]
  },
  {
   "cell_type": "code",
   "execution_count": 7,
   "metadata": {},
   "outputs": [
    {
     "data": {
      "text/plain": [
       "True"
      ]
     },
     "execution_count": 7,
     "metadata": {},
     "output_type": "execute_result"
    }
   ],
   "source": [
    "cv2.imwrite(\"dots_pattern.png\", blank)"
   ]
  },
  {
   "cell_type": "markdown",
   "metadata": {},
   "source": [
    "## Padrão de saída\n",
    "\n",
    "Foi aplicada uma transformação à imagem de entrada, que gerou o seguinte padrão de saída:"
   ]
  },
  {
   "cell_type": "code",
   "execution_count": 8,
   "metadata": {},
   "outputs": [
    {
     "data": {
      "text/plain": [
       "<matplotlib.image.AxesImage at 0xa0535f8>"
      ]
     },
     "execution_count": 8,
     "metadata": {},
     "output_type": "execute_result"
    },
    {
     "data": {
      "image/png": "[encoded data removed]",
      "text/plain": [
       "<matplotlib.figure.Figure at 0x9d9a978>"
      ]
     },
     "metadata": {},
     "output_type": "display_data"
    }
   ],
   "source": [
    "saida = cv2.imread(\"patterns_transformed.png\")\n",
    "\n",
    "saida_rgb = cv2.cvtColor(saida, cv2.COLOR_BGR2RGB)\n",
    "\n",
    "plt.imshow(saida)"
   ]
  },
  {
   "cell_type": "code",
   "execution_count": null,
   "metadata": {
    "collapsed": true
   },
   "outputs": [],
   "source": []
  },
  {
   "cell_type": "markdown",
   "metadata": {},
   "source": [
    "Sabe-se que a imagem de saída é igual a uma combinação de rotações em torno de um ponto arbitrário e  redimensionamentos (escala) da imagem de entrada. Para simplificar, assuma que o redimensionamento é igual nos eixos $x$ e $y$\n",
    "\n",
    "Cada ponto da imagem de saída está relacionado à sua posição na imagem de entrada pela seguinte transformação:\n",
    "\n",
    "$$\n",
    "\\begin{pmatrix}\n",
    "x_{saida} \\\\\n",
    "y_{saida} \\\\\n",
    "1\n",
    "\\end{pmatrix}\n",
    " = \n",
    "\\begin{pmatrix}\n",
    "   \\alpha &\\beta &(1-\\alpha \\cdot center.x - \\beta \\cdot center.y) \\\\\n",
    "   -\\beta & \\alpha & \\beta \\cdot center.x + (1 - \\alpha \\cdot center.y) \\\\ 0 & 0 & 1\n",
    "\\end{pmatrix} \\cdot \\begin{pmatrix} x_{entrada} \\\\ y_{entrada} \\\\ 1 \\end{pmatrix} \n",
    "$$\n",
    "\n",
    "Na equação acima:\n",
    "\n",
    "$\\alpha = escala \\cdot \\cos(\\theta)$ \n",
    "\n",
    "$\\beta = escala \\cdot \\sin(\\theta) $ \n",
    "\n",
    "$x_{entrada}$ é a posição $x$ de cada pixel na imagem de entrada\n",
    "\n",
    "$y_{entrada}$ é a posição $y$ de cada pixel na imagem de entrada\n",
    "\n",
    "$center$ é o centro de rotação\n",
    "\n",
    "$x_{saída}$ é a coordenada $x$ do pixel na imagem de saída\n",
    "\n",
    "$y_{saída}$ é a coordenada $y$ do pixel na imagem de saída\n",
    "\n",
    "\n",
    "Com translação:\n",
    "\n",
    "$$\n",
    "\\begin{pmatrix}\n",
    "x_{saida} \\\\\n",
    "y_{saida} \\\\\n",
    "1\n",
    "\\end{pmatrix}\n",
    " =\n",
    "\\begin{pmatrix}\n",
    "   \\alpha &\\beta &(1-\\alpha \\cdot center.x - \\beta \\cdot center.y) + t_x \\\\\n",
    "   -\\beta & \\alpha & \\beta \\cdot center.x + (1 - \\alpha \\cdot center.y) + t_y \\\\ 0 & 0 & 1\n",
    "\\end{pmatrix} \\cdot \\begin{pmatrix} x_{entrada} \\\\ y_{entrada} \\\\ 1 \\end{pmatrix}\n",
    "$$\n",
    "\n"
   ]
  },
  {
   "cell_type": "markdown",
   "metadata": {},
   "source": [
    "# Matrizes de transformação com rotação, translação e escala\n",
    "\n",
    "\n",
    "O objetivo desta seção é só entender a forma da transformação de saída expressa na equação que fecha a seção anterior.\n",
    "\n",
    "Uma matriz de translação por uma distância $ [ x_t   y_t ]$ em 2D é:\n",
    "\n",
    "$$\n",
    "T = \\begin{pmatrix} 1 & 0 & x_t \\\\\n",
    "0 & 1 & y_t \\\\\n",
    "0 & 0 & 1 \n",
    "\\end{pmatrix}\n",
    "$$\n",
    "\n",
    "Uma matriz de rotação por um ângulo $\\theta$ é:\n",
    "\n",
    "$$\n",
    "R = \\begin{pmatrix} \\cos(\\theta) & -\\sin(\\theta) & 0 \\\\\n",
    "\\sin(\\theta) & \\cos(\\theta) & 0 \\\\\n",
    "0 & 0 & 1 \n",
    "\\end{pmatrix}\n",
    "$$\n",
    "\n",
    "Uma matriz que aplica um fator de escala  $s$ igual nos eixos $x$ e $y$ é:\n",
    "\n",
    "\n",
    "$$\n",
    "S = \\begin{pmatrix} s & 0  & 0 \\\\\n",
    "0 & s & 0 \\\\\n",
    "0 & 0 & 1 \n",
    "\\end{pmatrix}\n",
    "$$\n",
    "\n",
    "\n",
    "Uma transformação genérica, composta de rotação, escala e transação (nesta ordem) é dada por:\n",
    "\n",
    "$$\n",
    "M = T \\cdot S \\cdot R\n",
    "$$\n",
    "\n",
    "Ou seja:\n",
    "$$\n",
    "M = \\begin{pmatrix} 1 & 0 & x_t \\\\\n",
    "0 & 1 & y_t \\\\\n",
    "0 & 0 & 1 \n",
    "\\end{pmatrix}\n",
    "\\cdot\n",
    "\\begin{pmatrix} \\cos(\\theta) & -\\sin(\\theta) & 0 \\\\\n",
    "\\sin(\\theta) & \\cos(\\theta) & 0 \\\\\n",
    "0 & 0 & 1 \n",
    "\\end{pmatrix}\n",
    "\\cdot\n",
    "\\begin{pmatrix} s & 0  & 0 \\\\\n",
    "0 & s & 0 \\\\\n",
    "0 & 0 & 1 \n",
    "\\end{pmatrix}\n",
    "$$\n",
    "\n",
    "Multiplicando as três matrizes, temos que uma transformação afim composta de rotação, escala e translação é:\n",
    "\n",
    "$$\n",
    "M = \\begin{pmatrix} s\\cdot\\cos(\\theta) & -s\\cdot\\sin(\\theta) & x_t \\\\\n",
    "-s\\cdot\\sin(\\theta) & -s\\cdot\\cos(\\theta) & y_t \\\\\n",
    "0 & 0 & 1 \n",
    "\\end{pmatrix}\n",
    "$$\n",
    "\n",
    "\n",
    "Desta forma, um ponto de entrada representado por $( x_{i}, y_{i} ) $ será transformado num ponto de saída $(x_{saida}, y_{saida})$ quando multiplicado pela matrix $M$\n",
    "\n",
    "\n",
    "$$\n",
    "\\begin{pmatrix}x_{saida} \\\\ y_{saida} \\end{pmatrix} = \\begin{pmatrix} s\\cdot\\cos(\\theta) & -s\\cdot\\sin(\\theta) & x_t \\\\\n",
    "-s\\cdot\\sin(\\theta) & -s\\cdot\\cos(\\theta) & y_t \\\\\n",
    "0 & 0 & 1 \n",
    "\\end{pmatrix} \\cdot \\begin{pmatrix} x_{i} \\\\ y_{i} \\end{pmatrix} \n",
    "$$\n",
    "\n",
    "Teremos, então:\n",
    "\n",
    "$$\n",
    "x_{saida} = x_{i} \\cdot s \\cdot \\cos(\\theta) - y_{i} \\cdot s \\cdot \\sin(\\theta) + x_t $$\n",
    "e \n",
    "$$ y_{saida} = - x_{i} \\cdot s \\cdot \\sin(\\theta) - y_{i} \\cdot s \\cdot \\cos(\\theta) + y_t\n",
    "$$\n",
    "\n",
    "Por simplicidade, ao estimar uma transformação, ajuda trabalhar com as seguintes relações:\n",
    "\n",
    "$\\alpha =  s \\cdot \\cos(\\theta)$\n",
    "\n",
    "e \n",
    "\n",
    "$\\beta = s \\cdot \\sin(\\theta) $\n",
    "\n",
    "E encarar a matriz da seguinte forma:\n",
    "\n",
    "\n",
    "$$\n",
    "\\begin{pmatrix}x_{saida} \\\\ y_{saida} \\end{pmatrix} = \\begin{pmatrix} \\alpha & -\\beta & x_t \\\\\n",
    "-\\beta & -\\alpha & y_t \\\\\n",
    "0 & 0 & 1 \n",
    "\\end{pmatrix} \\cdot \\begin{pmatrix} x_{i} \\\\ y_{i} \\end{pmatrix} \n",
    "$$\n",
    "\n"
   ]
  },
  {
   "cell_type": "markdown",
   "metadata": {},
   "source": [
    "# APS Visão\n",
    "\n",
    "Responda (no IPython Notebook): \n",
    "\n",
    "1. Quantos graus de liberdade (variáveis) determinam a transformação acima?\n",
    "\n",
    "2. Supondo que a transformação aplicada para transformar a imagem de entrada na imagem do arquivo `patterns_transformed.png` é desconhecida, é possível descobrir qual é esta transformação? Como?\n",
    "\n",
    "3. Crie uma tabela para os 7 pontos de entrada fornecidos em que constem quais suas posições na imagem de entrada e depois quais suas posições após transformados, na imagem de saída.\n",
    "\n",
    "4. Considerando o número de variáveis da matriz de transformação fornecida, de quantas correspondências $p_{entrada} \\Rightarrow p_{saida}$ você precisa para descobrir qual é a matriz?\n",
    "\n",
    "5. Por que poderia ser útil usar **mais** correspondências do que a resposta que você deu no item anterior?\n",
    "\n",
    "6. Expanda a equação da transformação usando os pontos de entrada e saída de sua tabela até ter um sistema sobredeterminado. <font color=red> Reserve pelo menos 1 hora para esta atividade - trabalhoso </font>. Talvez você ache útil aprender a usar um *Computer Algebra System* para fazer isso, por exemplo o Sympy ou o Maxima.\n",
    "\n",
    "7. A partir do sistema sobredeterminado que você encontrou no item anterior, resolva e estime qual é a transformação que foi usada para converter a imagem de entrada na imagem de saída. Você pode usar o método de *Least Squares* que está presente no *Scipy* ou o *RANSAC* da OpenCV, por exemplo.\n",
    "\n",
    "8. Aplique a transformação à imagem de entrada e verifique se o resultado que obteve se assemelha à imagem de saída. A função da OpenCV que permite que você faça isso é a *cv2.warpAffine()* \n",
    "\n",
    "9. Abra a imagem `patterns_transformed.png`  na tela do seu celular e imprima na tela em tempo real a rotação da imagem"
   ]
  },
  {
   "cell_type": "markdown",
   "metadata": {},
   "source": [
    "### Respostas\n",
    "\n",
    "1 - 4 variaveis\n",
    "\n",
    "2 - Sim, é possivel usar a matriz inversa de M para descobrir os valores das variaveis usando algebra linear."
   ]
  },
  {
   "cell_type": "code",
   "execution_count": 9,
   "metadata": {},
   "outputs": [
    {
     "name": "stdout",
     "output_type": "stream",
     "text": [
      "Entrada: [[30, 30], [150, 30], [30, 90], [90, 90], [150, 90], [30, 150], [150, 150]]\n",
      "Saida: [[138, 95], [248, 141], [114, 150], [169, 172], [225, 197], [91, 207], [202, 252]]\n"
     ]
    },
    {
     "data": {
      "image/png": "[encoded data removed]",
      "text/plain": [
       "<matplotlib.figure.Figure at 0x9e0eb00>"
      ]
     },
     "metadata": {},
     "output_type": "display_data"
    }
   ],
   "source": [
    "# 3\n",
    "\n",
    "lists = []\n",
    "lists2 = []\n",
    "\n",
    "for i in range(len(points)):\n",
    "    lists.append([sp_x*points[i][0], sp_y*points[i][1]])\n",
    "\n",
    "def aim(x,y):\n",
    "    saida[y-10:y+10,x] = [0,0,0]\n",
    "    saida[y,x-10:x+10] = [0,0,0]\n",
    "    lists2.append([x,y])\n",
    "    \n",
    "aim(138,95)\n",
    "aim(248,141)\n",
    "aim(114,150)\n",
    "aim(169,172)\n",
    "aim(225,197)\n",
    "aim(91,207)\n",
    "aim(202,252)\n",
    "\n",
    "plt.imshow(saida)\n",
    "\n",
    "print('Entrada: '+ str(lists))\n",
    "print('Saida: '+ str(lists2))"
   ]
  },
  {
   "cell_type": "markdown",
   "metadata": {},
   "source": [
    "4 - 4 correspondencias."
   ]
  },
  {
   "cell_type": "markdown",
   "metadata": {},
   "source": [
    "5 - Por precisão. Como a transformacao pode resultar em valores continuos para as coordenadas de x e y dos novos pontos que seriam ignorados ou arredondados para um inteiro para tornar esses valores discretos, fazer o caminho inverso da saida para encontrar a entrada pode resultar em entradas diferentes das originais. Por isso, quanto mais pontos forem usados, mais seguros podemos estar de que as medias das variaveis da matriz transformacao estão proximas dos valores originais."
   ]
  },
  {
   "cell_type": "code",
   "execution_count": 11,
   "metadata": {},
   "outputs": [
    {
     "name": "stdout",
     "output_type": "stream",
     "text": [
      "Equacoes genericas para todos os pontos\n"
     ]
    },
    {
     "data": {
      "image/png": "[encoded data removed]",
      "text/latex": [
       "$$a x_{0} + b y_{0} + t_{x} - x_{s0}$$"
      ],
      "text/plain": [
       "a⋅x₀ + b⋅y₀ + tₓ - x_s0"
      ]
     },
     "metadata": {},
     "output_type": "display_data"
    },
    {
     "data": {
      "image/png": "[encoded data removed]",
      "text/latex": [
       "$$a y_{0} - b x_{0} + t_{y} - y_{s0}$$"
      ],
      "text/plain": [
       "a⋅y₀ - b⋅x₀ + t_y - y_s0"
      ]
     },
     "metadata": {},
     "output_type": "display_data"
    },
    {
     "data": {
      "image/png": "[encoded data removed]",
      "text/latex": [
       "$$a x_{1} + b y_{1} + t_{x} - x_{s1}$$"
      ],
      "text/plain": [
       "a⋅x₁ + b⋅y₁ + tₓ - x_s1"
      ]
     },
     "metadata": {},
     "output_type": "display_data"
    },
    {
     "data": {
      "image/png": "[encoded data removed]",
      "text/latex": [
       "$$a y_{1} - b x_{1} + t_{y} - y_{s1}$$"
      ],
      "text/plain": [
       "a⋅y₁ - b⋅x₁ + t_y - y_s1"
      ]
     },
     "metadata": {},
     "output_type": "display_data"
    },
    {
     "data": {
      "image/png": "[encoded data removed]",
      "text/latex": [
       "$$a x_{2} + b y_{2} + t_{x} - x_{s2}$$"
      ],
      "text/plain": [
       "a⋅x₂ + b⋅y₂ + tₓ - x_s2"
      ]
     },
     "metadata": {},
     "output_type": "display_data"
    },
    {
     "data": {
      "image/png": "[encoded data removed]",
      "text/latex": [
       "$$a y_{2} - b x_{2} + t_{y} - y_{s2}$$"
      ],
      "text/plain": [
       "a⋅y₂ - b⋅x₂ + t_y - y_s2"
      ]
     },
     "metadata": {},
     "output_type": "display_data"
    },
    {
     "data": {
      "image/png": "[encoded data removed]",
      "text/latex": [
       "$$a x_{3} + b y_{3} + t_{x} - x_{s3}$$"
      ],
      "text/plain": [
       "a⋅x₃ + b⋅y₃ + tₓ - x_s3"
      ]
     },
     "metadata": {},
     "output_type": "display_data"
    },
    {
     "data": {
      "image/png": "[encoded data removed]",
      "text/latex": [
       "$$a y_{3} - b x_{3} + t_{y} - y_{s3}$$"
      ],
      "text/plain": [
       "a⋅y₃ - b⋅x₃ + t_y - y_s3"
      ]
     },
     "metadata": {},
     "output_type": "display_data"
    },
    {
     "data": {
      "image/png": "[encoded data removed]",
      "text/latex": [
       "$$a x_{4} + b y_{4} + t_{x} - x_{s4}$$"
      ],
      "text/plain": [
       "a⋅x₄ + b⋅y₄ + tₓ - x_s4"
      ]
     },
     "metadata": {},
     "output_type": "display_data"
    },
    {
     "data": {
      "image/png": "[encoded data removed]",
      "text/latex": [
       "$$a y_{4} - b x_{4} + t_{y} - y_{s4}$$"
      ],
      "text/plain": [
       "a⋅y₄ - b⋅x₄ + t_y - y_s4"
      ]
     },
     "metadata": {},
     "output_type": "display_data"
    },
    {
     "data": {
      "image/png": "[encoded data removed]",
      "text/latex": [
       "$$a x_{5} + b y_{5} + t_{x} - x_{s5}$$"
      ],
      "text/plain": [
       "a⋅x₅ + b⋅y₅ + tₓ - x_s5"
      ]
     },
     "metadata": {},
     "output_type": "display_data"
    },
    {
     "data": {
      "image/png": "[encoded data removed]",
      "text/latex": [
       "$$a y_{5} - b x_{5} + t_{y} - y_{s5}$$"
      ],
      "text/plain": [
       "a⋅y₅ - b⋅x₅ + t_y - y_s5"
      ]
     },
     "metadata": {},
     "output_type": "display_data"
    },
    {
     "data": {
      "image/png": "[encoded data removed]",
      "text/latex": [
       "$$a x_{6} + b y_{6} + t_{x} - x_{s6}$$"
      ],
      "text/plain": [
       "a⋅x₆ + b⋅y₆ + tₓ - x_s6"
      ]
     },
     "metadata": {},
     "output_type": "display_data"
    },
    {
     "data": {
      "image/png": "[encoded data removed]",
      "text/latex": [
       "$$a y_{6} - b x_{6} + t_{y} - y_{s6}$$"
      ],
      "text/plain": [
       "a⋅y₆ - b⋅x₆ + t_y - y_s6"
      ]
     },
     "metadata": {},
     "output_type": "display_data"
    },
    {
     "name": "stdout",
     "output_type": "stream",
     "text": [
      "equacoes usadas:\n"
     ]
    },
    {
     "data": {
      "image/png": "[encoded data removed]",
      "text/latex": [
       "$$30 a + 30 b + t_{x} - 138$$"
      ],
      "text/plain": [
       "30⋅a + 30⋅b + tₓ - 138"
      ]
     },
     "metadata": {},
     "output_type": "display_data"
    },
    {
     "data": {
      "image/png": "[encoded data removed]",
      "text/latex": [
       "$$30 a - 30 b + t_{y} - 95$$"
      ],
      "text/plain": [
       "30⋅a - 30⋅b + t_y - 95"
      ]
     },
     "metadata": {},
     "output_type": "display_data"
    },
    {
     "data": {
      "image/png": "[encoded data removed]",
      "text/latex": [
       "$$150 a + 30 b + t_{x} - 248$$"
      ],
      "text/plain": [
       "150⋅a + 30⋅b + tₓ - 248"
      ]
     },
     "metadata": {},
     "output_type": "display_data"
    },
    {
     "data": {
      "image/png": "[encoded data removed]",
      "text/latex": [
       "$$30 a - 150 b + t_{y} - 141$$"
      ],
      "text/plain": [
       "30⋅a - 150⋅b + t_y - 141"
      ]
     },
     "metadata": {},
     "output_type": "display_data"
    },
    {
     "data": {
      "image/png": "[encoded data removed]",
      "text/latex": [
       "$$30 a + 90 b + t_{x} - 114$$"
      ],
      "text/plain": [
       "30⋅a + 90⋅b + tₓ - 114"
      ]
     },
     "metadata": {},
     "output_type": "display_data"
    },
    {
     "data": {
      "image/png": "[encoded data removed]",
      "text/latex": [
       "$$90 a - 30 b + t_{y} - 150$$"
      ],
      "text/plain": [
       "90⋅a - 30⋅b + t_y - 150"
      ]
     },
     "metadata": {},
     "output_type": "display_data"
    },
    {
     "data": {
      "image/png": "[encoded data removed]",
      "text/latex": [
       "$$90 a + 90 b + t_{x} - 169$$"
      ],
      "text/plain": [
       "90⋅a + 90⋅b + tₓ - 169"
      ]
     },
     "metadata": {},
     "output_type": "display_data"
    },
    {
     "data": {
      "image/png": "[encoded data removed]",
      "text/latex": [
       "$$90 a - 90 b + t_{y} - 172$$"
      ],
      "text/plain": [
       "90⋅a - 90⋅b + t_y - 172"
      ]
     },
     "metadata": {},
     "output_type": "display_data"
    },
    {
     "data": {
      "image/png": "[encoded data removed]",
      "text/latex": [
       "$$150 a + 90 b + t_{x} - 225$$"
      ],
      "text/plain": [
       "150⋅a + 90⋅b + tₓ - 225"
      ]
     },
     "metadata": {},
     "output_type": "display_data"
    },
    {
     "data": {
      "image/png": "[encoded data removed]",
      "text/latex": [
       "$$90 a - 150 b + t_{y} - 197$$"
      ],
      "text/plain": [
       "90⋅a - 150⋅b + t_y - 197"
      ]
     },
     "metadata": {},
     "output_type": "display_data"
    },
    {
     "data": {
      "image/png": "[encoded data removed]",
      "text/latex": [
       "$$30 a + 150 b + t_{x} - 91$$"
      ],
      "text/plain": [
       "30⋅a + 150⋅b + tₓ - 91"
      ]
     },
     "metadata": {},
     "output_type": "display_data"
    },
    {
     "data": {
      "image/png": "[encoded data removed]",
      "text/latex": [
       "$$150 a - 30 b + t_{y} - 207$$"
      ],
      "text/plain": [
       "150⋅a - 30⋅b + t_y - 207"
      ]
     },
     "metadata": {},
     "output_type": "display_data"
    },
    {
     "name": "stdout",
     "output_type": "stream",
     "text": [
      "Bootstrap de solucoes... voce nao contava com minha astucia, sigam me os bons:\n",
      "Só serão mostradas as primeiras 4 soluções\n"
     ]
    },
    {
     "data": {
      "image/png": "[encoded data removed]",
      "text/latex": [
       "$$\\left \\{ a : \\frac{277}{300}, \\quad b : - \\frac{29}{75}, \\quad t_{x} : \\frac{1211}{10}, \\quad t_{y} : \\frac{553}{10}\\right \\}$$"
      ],
      "text/plain": [
       "⎧   277     -29       1211       553⎫\n",
       "⎨a: ───, b: ────, tₓ: ────, t_y: ───⎬\n",
       "⎩   300      75        10         10⎭"
      ]
     },
     "metadata": {},
     "output_type": "display_data"
    },
    {
     "data": {
      "image/png": "[encoded data removed]",
      "text/latex": [
       "$$\\left \\{ a : \\frac{11}{12}, \\quad b : - \\frac{23}{60}, \\quad t_{x} : 122, \\quad t_{y} : 56\\right \\}$$"
      ],
      "text/plain": [
       "⎧   11     -23                   ⎫\n",
       "⎨a: ──, b: ────, tₓ: 122, t_y: 56⎬\n",
       "⎩   12      60                   ⎭"
      ]
     },
     "metadata": {},
     "output_type": "display_data"
    },
    {
     "data": {
      "image/png": "[encoded data removed]",
      "text/latex": [
       "$$\\left \\{ a : \\frac{14}{15}, \\quad b : - \\frac{5}{12}, \\quad t_{x} : \\frac{245}{2}, \\quad t_{y} : \\frac{101}{2}\\right \\}$$"
      ],
      "text/plain": [
       "⎧   14                                 ⎫\n",
       "⎨a: ──, b: -5/12, tₓ: 245/2, t_y: 101/2⎬\n",
       "⎩   15                                 ⎭"
      ]
     },
     "metadata": {},
     "output_type": "display_data"
    },
    {
     "data": {
      "image/png": "[encoded data removed]",
      "text/latex": [
       "$$\\left \\{ a : \\frac{11}{12}, \\quad b : - \\frac{23}{60}, \\quad t_{x} : 121, \\quad t_{y} : 56\\right \\}$$"
      ],
      "text/plain": [
       "⎧   11     -23                   ⎫\n",
       "⎨a: ──, b: ────, tₓ: 121, t_y: 56⎬\n",
       "⎩   12      60                   ⎭"
      ]
     },
     "metadata": {},
     "output_type": "display_data"
    },
    {
     "name": "stdout",
     "output_type": "stream",
     "text": [
      "Medias: {'a': 0.922248208333338, 'b': -0.386961083333344, 'tx': 121.243871250003, 'ty': 54.9385512500029}\n"
     ]
    },
    {
     "data": {
      "text/plain": [
       "{'a': 0.922248208333338,\n",
       " 'b': -0.386961083333344,\n",
       " 'tx': 121.243871250003,\n",
       " 'ty': 54.9385512500029}"
      ]
     },
     "metadata": {},
     "output_type": "display_data"
    }
   ],
   "source": [
    "# 6\n",
    "\n",
    "from sympy.solvers import solve\n",
    "from IPython.core.display import display_pretty\n",
    "from sympy.printing.latex import *\n",
    "from sympy import init_printing; init_printing()\n",
    "from sympy.interactive import printing\n",
    "printing.init_printing(use_latex=True)\n",
    "import sympy as sp\n",
    "from random import randint\n",
    "\n",
    "iniciais = [[30, 30], [150, 30], [30, 90], [90, 90], [150, 90], [30, 150], [150, 150]]\n",
    "transformados = [[138, 95], [248, 141], [114, 150], [169, 172], [225, 197], [91, 207], [202, 252]]\n",
    "\n",
    "def make_column_point(x, y):\n",
    "    return sp.Matrix([[x],[y],[1]])\n",
    "\n",
    "def initialpointmaker(num):\n",
    "    for x in range(0,num + 1):\n",
    "        a = str(x)\n",
    "        exec('global x'+a+', y'+a+'; x'+a+', y'+a+'  = sp.symbols(\"x_'+a+', y_'+a+'\")')\n",
    "        exec('global p'+a+'; p'+a+' = make_column_point(x'+a+', y'+a+')')\n",
    "\n",
    "def finalpointmaker(num):\n",
    "    for x in range(0,num + 1):\n",
    "        a = str(x)\n",
    "        exec('global xs'+a+', ys'+a+'; xs'+a+', ys'+a+' = sp.symbols(\"x_s'+a+', y_s'+a+'\")')\n",
    "        exec('global ps'+a+'; ps'+a+' = make_column_point(xs'+a+', ys'+a+')')\n",
    "\n",
    "# Criar os pontos de acordo com quantos pontos voce precisar ('num')\n",
    "def pointer(num):\n",
    "    initialpointmaker(num)\n",
    "    finalpointmaker(num)\n",
    "    \n",
    "    global points_entrada; points_entrada = []\n",
    "    global points_saida; points_saida = []\n",
    "        \n",
    "    for x in range(0,num + 1):\n",
    "        x = str(x)\n",
    "        exec('points_entrada.append(p'+x+')')\n",
    "        exec('points_saida.append(ps'+x+')')\n",
    "\n",
    "# Simbolos para as equacoes\n",
    "t_y, t_x, a, b =  sp.symbols(\"t_y, t_x, a, b\")\n",
    "\n",
    "# Usando o criador de pontos\n",
    "pointer(6)\n",
    "\n",
    "# Definindo a matriz generica M\n",
    "M = sp.Matrix([[a, b, t_x], [-b, a, t_y], [0, 0, 1]])\n",
    "\n",
    "# Fazendo as equações de acordo com o codigo mostrado em EstudoMatrizesSistemas\n",
    "############################################################################################################\n",
    "equations = []\n",
    "system_eq = [] # Sistema de equações supondo = 0\n",
    "left_side = [] # Lado esquerdo do sistema\n",
    "\n",
    "for p in points_entrada:\n",
    "    produto = M*p\n",
    "    equations.append(produto)\n",
    "print(\"Equacoes genericas para todos os pontos\")\n",
    "\n",
    "for i in range(len(equations)):\n",
    "    for j in range(len(equations[i][:-1])): # -1 excludes the homogeneous coordinate (extra 1 at the end)\n",
    "        eq = equations[i][j]-points_saida[i][j]\n",
    "        left_side.append(equations[i][j])\n",
    "        system_eq.append(eq)\n",
    "\n",
    "############################################################################################################        \n",
    "        \n",
    "# Substituindo os valores dos meus pontos\n",
    "############################################################################################################\n",
    "for equation in system_eq:\n",
    "    display(equation)\n",
    "\n",
    "def replacer(eq,idx,vals):\n",
    "    idx = str(idx/2)\n",
    "    v0,v1 = vals\n",
    "    x,y = v0\n",
    "    xs,ys = v1\n",
    "    return eq.replace('x_'+idx,x).replace('y_'+idx,y).replace('x_s'+idx,xs).replace('y_s'+idx,ys)\n",
    "\n",
    "print('equacoes usadas:')\n",
    "lista = []\n",
    "for x in range(0,12):\n",
    "    lista.append(replacer(system_eq[x],x,[iniciais[x/2],transformados[x/2]]))\n",
    "\n",
    "\n",
    "for equation in lista:\n",
    "    display(equation)\n",
    "\n",
    "names = [x for x in solve(lista[0:4],[a,b,t_x,t_y]).keys()]\n",
    "\n",
    "boots = []\n",
    "\n",
    "print('Bootstrap de solucoes... voce nao contava com minha astucia, sigam me os bons:')\n",
    "print('Só serão mostradas as primeiras 4 soluções')\n",
    "\n",
    "for b in range(0,10000):\n",
    "    solucoes = []\n",
    "    jafoi = []\n",
    "    x = randint(0,8)\n",
    "    for a in range(0,8,2):\n",
    "        jafoi.append(x)\n",
    "        apdict = {}\n",
    "        res = solve(lista[x:x+4],['a','b','t_x','t_y'])\n",
    "        if b == 1:\n",
    "            display(res)\n",
    "        for y in names:\n",
    "            apdict[str(y)] = res[y]\n",
    "        solucoes.append(apdict)\n",
    "        while x in jafoi:\n",
    "            x = randint(0,8)\n",
    "    boots.append(solucoes)\n",
    "\n",
    "# Médias das medias\n",
    "\n",
    "a = 0.0\n",
    "b = 0.0\n",
    "tx = 0.0\n",
    "ty = 0.0\n",
    "\n",
    "for y in boots:\n",
    "    \n",
    "    # Médias\n",
    "    \n",
    "    aa = 0.0\n",
    "    ba = 0.0\n",
    "    txa = 0.0\n",
    "    tya = 0.0\n",
    "    \n",
    "    for x in y:\n",
    "        aa += x['a']\n",
    "        ba += x['b']\n",
    "        txa += x['t_x']\n",
    "        tya += x['t_y']\n",
    "\n",
    "    aa /= len(y)\n",
    "    ba /= len(y)\n",
    "    txa /= len(y)\n",
    "    tya /= len(y)\n",
    "\n",
    "    a += aa\n",
    "    b += ba\n",
    "    tx += txa\n",
    "    ty += tya\n",
    "\n",
    "a /= len(boots)\n",
    "b /= len(boots)\n",
    "tx /= len(boots)\n",
    "ty /= len(boots)\n",
    "\n",
    "medias = {'a' : a,\n",
    "      'b' : b,\n",
    "      'tx' : tx,\n",
    "      'ty' : ty}\n",
    "\n",
    "print('Medias: ' + str(medias))\n",
    "display(medias)"
   ]
  },
  {
   "cell_type": "code",
   "execution_count": 10,
   "metadata": {},
   "outputs": [
    {
     "name": "stdout",
     "output_type": "stream",
     "text": [
      "[[  0.9222482  -0.386961  121.2438712]\n",
      " [  0.386961    0.9222482  54.9385512]\n",
      " [  0.          0.          1.       ]]\n"
     ]
    },
    {
     "data": {
      "text/plain": [
       "<matplotlib.image.AxesImage at 0xa59eef0>"
      ]
     },
     "execution_count": 10,
     "metadata": {},
     "output_type": "execute_result"
    },
    {
     "data": {
      "image/png": "[encoded data removed]",
      "text/plain": [
       "<matplotlib.figure.Figure at 0xa2ec438>"
      ]
     },
     "metadata": {},
     "output_type": "display_data"
    }
   ],
   "source": [
    "# Escrevendo na mao o resultado por que o python buga quando\n",
    "# Eu chamo direto na matriz as variaveis a, b, tx, ty\n",
    "a = 0.9222482\n",
    "b = -0.3869610\n",
    "tx = 121.2438712\n",
    "ty = 54.9385512\n",
    "\n",
    "# A matriz M original, que nao resulta em uma transformação igual à original\n",
    "# Note o sinal do primeiro b e segundo a\n",
    "# M = np.matrix([[a,-b,tx],[-b,-a,ty],[0,0,1]])\n",
    "\n",
    "# Matriz M que resulta na mesma transformação que a matriz original\n",
    "M = np.matrix([[a,b,tx],[-b,a,ty],[0,0,1]])\n",
    "print(M)\n",
    "use = cv2.imread(\"dots_pattern.png\")\n",
    "dst1 = cv2.warpPerspective(use,M,(300,300))\n",
    "plt.imshow(dst1)"
   ]
  },
  {
   "cell_type": "markdown",
   "metadata": {},
   "source": [
    "# Sinais\n",
    "Eu devo ter errado algum sinal na conta, por que eu precisei inverter os itens M(0,1) e M(1,1) da matriz M para dar certo a transformação. Uma vez que esses itens foram invertidos, a transformação saiu quase exatamente igual à original (eu, pelo menos nao vejo diferença entre as duas) ... logico, fui eu que fiz."
   ]
  },
  {
   "cell_type": "code",
   "execution_count": 11,
   "metadata": {},
   "outputs": [
    {
     "data": {
      "text/plain": [
       "<matplotlib.image.AxesImage at 0xa318128>"
      ]
     },
     "execution_count": 11,
     "metadata": {},
     "output_type": "execute_result"
    },
    {
     "data": {
      "image/png": "[encoded data removed]",
      "text/plain": [
       "<matplotlib.figure.Figure at 0xa01e2b0>"
      ]
     },
     "metadata": {},
     "output_type": "display_data"
    }
   ],
   "source": [
    "plt.imshow(saida)"
   ]
  },
  {
   "cell_type": "code",
   "execution_count": 12,
   "metadata": {},
   "outputs": [
    {
     "name": "stdout",
     "output_type": "stream",
     "text": [
      "[[ 1.00219688e+00 -3.63477488e-01  1.21577162e+02]\n",
      " [ 4.29225908e-01  9.93359992e-01  5.42077903e+01]\n",
      " [ 2.71524487e-04  3.90007899e-04  1.00000000e+00]]\n"
     ]
    },
    {
     "data": {
      "text/plain": [
       "<matplotlib.image.AxesImage at 0xadcf940>"
      ]
     },
     "execution_count": 12,
     "metadata": {},
     "output_type": "execute_result"
    },
    {
     "data": {
      "image/png": "[encoded data removed]",
      "text/plain": [
       "<matplotlib.figure.Figure at 0xa318588>"
      ]
     },
     "metadata": {},
     "output_type": "display_data"
    }
   ],
   "source": [
    "# COMENTARIO\n",
    "# esse codigo do opencv é pessimo, a minha matriz feita raiz ta mais proxima\n",
    "# da original...\n",
    "lists = np.float32(lists[0:4])\n",
    "lists2 = np.float32(lists2[0:4])\n",
    "\n",
    "M = cv2.getPerspectiveTransform(lists,lists2)\n",
    "print(M)\n",
    "dst = cv2.warpPerspective(use,M,(300,300))\n",
    "\n",
    "\n",
    "plt.imshow(dst)"
   ]
  },
  {
   "cell_type": "markdown",
   "metadata": {},
   "source": [
    "## Referências\n",
    "\n",
    "\n",
    "\n",
    "[Shapiro and Shepard. Computer Vision. Seção 11.2, Capítulo 11](https://courses.cs.washington.edu/courses/cse576/book/ch11.pdf)\n",
    "\n",
    "[http://docs.opencv.org/3.1.0/da/d6e/tutorial_py_geometric_transformations.html#gsc.tab=0](http://docs.opencv.org/3.1.0/da/d6e/tutorial_py_geometric_transformations.html#gsc.tab=0)\n",
    "\n"
   ]
  },
  {
   "cell_type": "code",
   "execution_count": 13,
   "metadata": {},
   "outputs": [
    {
     "data": {
      "text/plain": [
       "<matplotlib.image.AxesImage at 0xae645f8>"
      ]
     },
     "execution_count": 13,
     "metadata": {},
     "output_type": "execute_result"
    },
    {
     "data": {
      "image/png": "[encoded data removed]",
      "text/plain": [
       "<matplotlib.figure.Figure at 0xa693c88>"
      ]
     },
     "metadata": {},
     "output_type": "display_data"
    }
   ],
   "source": [
    "# Zerando os indixes (0,2) e (1,2) pra ver se eu consigo\n",
    "# Ajudar o opencv...\n",
    "M[2,0:2] = 0\n",
    "dst = cv2.warpPerspective(use,M,(300,300))\n",
    "plt.imshow(dst)"
   ]
  },
  {
   "cell_type": "code",
   "execution_count": 14,
   "metadata": {},
   "outputs": [
    {
     "name": "stdout",
     "output_type": "stream",
     "text": [
      "[[   0.92198953    0.38685247 -133.03869363]\n",
      " [  -0.38685247    0.92198953   -3.74927842]\n",
      " [   0.            0.            1.        ]]\n"
     ]
    },
    {
     "data": {
      "text/plain": [
       "<matplotlib.image.AxesImage at 0xaea33c8>"
      ]
     },
     "execution_count": 14,
     "metadata": {},
     "output_type": "execute_result"
    },
    {
     "data": {
      "image/png": "[encoded data removed]",
      "text/plain": [
       "<matplotlib.figure.Figure at 0xae882b0>"
      ]
     },
     "metadata": {},
     "output_type": "display_data"
    }
   ],
   "source": [
    "from numpy.linalg import inv\n",
    "\n",
    "M = inv(np.matrix([[a,b,tx],[-b,a,ty],[0,0,1]]))\n",
    "print(M)\n",
    "use = cv2.imread(\"dots_pattern.png\")\n",
    "dst = cv2.warpPerspective(saida,M,(180,180))\n",
    "plt.imshow(dst)"
   ]
  },
  {
   "cell_type": "markdown",
   "metadata": {
    "collapsed": true
   },
   "source": [
    "<img src=\"jr.jpg\" style=\"width: 300px;height: 300px\">"
   ]
  },
  {
   "cell_type": "code",
   "execution_count": 3,
   "metadata": {},
   "outputs": [],
   "source": [
    "import cv2\n",
    "# from cv2 import cv\n",
    "import numpy as np\n",
    "\n",
    "use = cv2.imread(\"dots_pattern.png\")\n",
    "saida = cv2.imread(\"patterns_transformed.png\")\n",
    "\n",
    "method = cv2.TM_SQDIFF_NORMED\n",
    "img1 = use\n",
    "\n",
    "def rectangle(frame):\n",
    "    result = cv2.matchTemplate(img1, frame, method)\n",
    "\n",
    "    mn,_,mnLoc,_ = cv2.minMaxLoc(result)\n",
    "\n",
    "    MPx,MPy = mnLoc\n",
    "\n",
    "    trows,tcols = img1.shape[:2]\n",
    "\n",
    "    cv2.rectangle(frame, (MPx,MPy),(MPx+tcols,MPy+trows),(0,0,255),2)\n",
    "\n",
    "def draw_circle(event,x,y,flags,param):\n",
    "    global mouseX,mouseY\n",
    "    if event == cv2.EVENT_LBUTTONDBLCLK:\n",
    "        cv2.circle(frame,(x,y),100,(255,0,0),-1)\n",
    "        mouseX,mouseY = x,y\n",
    "\n",
    "mousex = 0\n",
    "mousey = 0\n",
    "\n",
    "frame = saida\n",
    "        \n",
    "# frame = np.zeros((512,512,3), np.uint8)\n",
    "cv2.namedWindow('image')\n",
    "cv2.setMouseCallback('image',draw_circle)\n",
    "\n",
    "rectangle(frame)\n",
    "\n",
    "# while(1):\n",
    "#     cv2.imshow('image',frame)\n",
    "    \n",
    "#     k = cv2.waitKey(0) & 0xFF\n",
    "    \n",
    "#     if k == ord('c'):\n",
    "#         break\n",
    "#     elif k == ord('a'):\n",
    "#         print mouseX,mouseY\n",
    "\n",
    "        \n",
    "# cap.release()\n",
    "# cv2.destroyAllWindows()\n",
    "# cap = cv2.VideoCapture(0)\n",
    "\n",
    "# plt.imshow(frame)\n",
    "\n",
    "# cv2.imshow('output',frame)\n",
    "\n",
    "# cv2.waitKey(0)"
   ]
  },
  {
   "cell_type": "code",
   "execution_count": 57,
   "metadata": {},
   "outputs": [],
   "source": [
    "frame = cv2.imread(\"patterns_transformed.png\")\n",
    "method = cv2.TM_SQDIFF_NORMED\n",
    "\n",
    "def rectangle(frame,dot):\n",
    "    result = cv2.matchTemplate(dot, frame, method)\n",
    "\n",
    "    mn,_,mnLoc,_ = cv2.minMaxLoc(result)\n",
    "\n",
    "    MPx,MPy = mnLoc\n",
    "\n",
    "    trows,tcols = dot.shape[:2]\n",
    "\n",
    "    cv2.rectangle(frame, (MPx,MPy),(MPx+tcols,MPy+trows),(0,0,255),2)\n",
    "\n",
    "red_dot = img1[25:35,25:35]\n",
    "blue_dot = cv2.cvtColor(img1[85:95,25:35], cv2.COLOR_BGR2RGB)\n",
    "tan_dot = img1[145:155,25:35]\n",
    "green_dot = img1[25:35,145:155]\n",
    "purple_dot = img1[85:95,145:155]\n",
    "black_dot = img1[145:155,145:155]\n",
    "cyan_dot = img1[85:95,85:95]\n",
    "\n",
    "red_dot = cv2.cvtColor(red_dot, cv2.COLOR_BGR2RGB)\n",
    "tan_dot = cv2.cvtColor(tan_dot, cv2.COLOR_BGR2RGB)\n",
    "green_dot = cv2.cvtColor(green_dot, cv2.COLOR_BGR2RGB)\n",
    "purple_dot = cv2.cvtColor(purple_dot, cv2.COLOR_BGR2RGB)\n",
    "black_dot = cv2.cvtColor(black_dot, cv2.COLOR_BGR2RGB)\n",
    "cyan_dot = cv2.cvtColor(cyan_dot, cv2.COLOR_BGR2RGB)\n",
    "\n",
    "cap = cv2.VideoCapture(0)\n",
    "\n",
    "while True:\n",
    "\n",
    "    ret, frame = cap.read()\n",
    "\n",
    "#     rectangle(frame,img1)\n",
    "\n",
    "#     frame = cv2.cvtColor(frame, cv2.COLOR_BGR2HSV)\n",
    "    \n",
    "    rectangle(frame,blue_dot)\n",
    "    rectangle(frame,red_dot)\n",
    "    rectangle(frame,black_dot)\n",
    "    \n",
    "    cv2.imshow('Pure frame com circulos',frame)\n",
    "    \n",
    "    if cv2.waitKey(1) & 0xFF == ord('q'):\n",
    "        break\n",
    "\n",
    "cap.release()\n",
    "cv2.destroyAllWindows()\n",
    "# plt.imshow(frame)"
   ]
  },
  {
   "cell_type": "code",
   "execution_count": null,
   "metadata": {
    "collapsed": true
   },
   "outputs": [],
   "source": []
  },
  {
   "cell_type": "code",
   "execution_count": null,
   "metadata": {
    "collapsed": true
   },
   "outputs": [],
   "source": []
  },
  {
   "cell_type": "code",
   "execution_count": null,
   "metadata": {
    "collapsed": true
   },
   "outputs": [],
   "source": []
  },
  {
   "cell_type": "code",
   "execution_count": null,
   "metadata": {
    "collapsed": true
   },
   "outputs": [],
   "source": []
  },
  {
   "cell_type": "code",
   "execution_count": null,
   "metadata": {
    "collapsed": true
   },
   "outputs": [],
   "source": []
  },
  {
   "cell_type": "code",
   "execution_count": null,
   "metadata": {
    "collapsed": true
   },
   "outputs": [],
   "source": []
  },
  {
   "cell_type": "code",
   "execution_count": null,
   "metadata": {
    "collapsed": true
   },
   "outputs": [],
   "source": []
  },
  {
   "cell_type": "code",
   "execution_count": null,
   "metadata": {
    "collapsed": true
   },
   "outputs": [],
   "source": []
  },
  {
   "cell_type": "code",
   "execution_count": null,
   "metadata": {
    "collapsed": true
   },
   "outputs": [],
   "source": []
  }
 ],
 "metadata": {
  "kernelspec": {
   "display_name": "Python 2",
   "language": "python",
   "name": "python2"
  },
  "language_info": {
   "codemirror_mode": {
    "name": "ipython",
    "version": 2
   },
   "file_extension": ".py",
   "mimetype": "text/x-python",
   "name": "python",
   "nbconvert_exporter": "python",
   "pygments_lexer": "ipython2",
   "version": "2.7.14"
  }
 },
 "nbformat": 4,
 "nbformat_minor": 1
}
