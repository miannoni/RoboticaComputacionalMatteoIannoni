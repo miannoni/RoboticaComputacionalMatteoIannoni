{
 "cells": [
  {
   "cell_type": "markdown",
   "metadata": {},
   "source": [
    "# Entrega 2 de Robotica Computacional"
   ]
  },
  {
   "cell_type": "markdown",
   "metadata": {},
   "source": [
    "## Calculando a 'Constante de distancia'\n",
    "A constante de distancia é o que eu estou chamando a constante que dividida pelo tamanho do objeto em pixels, vezes seu diametro real vai resultar na distancia da camera ao objeto."
   ]
  },
  {
   "cell_type": "code",
   "execution_count": 15,
   "metadata": {},
   "outputs": [
    {
     "data": {
      "text/plain": [
       "701.7857142857143"
      ]
     },
     "execution_count": 15,
     "metadata": {},
     "output_type": "execute_result"
    }
   ],
   "source": [
    "diametro_real = 2.8\n",
    "distancia_real = 65.5\n",
    "diametro_pixels = 30\n",
    "\n",
    "diametro_pixels*(distancia_real/diametro_real)"
   ]
  },
  {
   "cell_type": "markdown",
   "metadata": {},
   "source": [
    "## Importando as bibliotecas necessarias"
   ]
  },
  {
   "cell_type": "code",
   "execution_count": 16,
   "metadata": {
    "collapsed": true
   },
   "outputs": [],
   "source": [
    "import cv2\n",
    "import numpy as np\n",
    "from __future__ import print_function"
   ]
  },
  {
   "cell_type": "markdown",
   "metadata": {},
   "source": [
    "### Criando a 'mira'\n",
    "A mira é a regiao da qual a camera vai tirar as cores que voce quer procurar, o proximo bloco de codigo torna a mira funcional."
   ]
  },
  {
   "cell_type": "code",
   "execution_count": 17,
   "metadata": {
    "collapsed": true
   },
   "outputs": [],
   "source": [
    "# Ponto esquerdo superior da 'mira'\n",
    "ponto1 = (300,200)\n",
    "# Ponto inferior direito da 'mira'\n",
    "ponto2 = (320,220)\n",
    "\n",
    "# Valores maximos dos canais hsv\n",
    "high = np.array([300,300,300])\n",
    "# Valores minimos dos canais hsv\n",
    "low = np.array([0,0,0])\n",
    "\n",
    "# Contador de 'ciclos'\n",
    "time = 0\n",
    "\n",
    "# Fix é um valor adicionado ao maximo e subtraido do minimo na mira, para ter certeza de que todo o objeto é capturado no\n",
    "# mask\n",
    "fix = 20"
   ]
  },
  {
   "cell_type": "markdown",
   "metadata": {},
   "source": [
    "### Finalmente printando a distancia\n",
    "O proximo bloco de codigo torna possivel printar a distancia de um circulo de 2.8cm de (eu acho, nao testei) qualquer cor da camera."
   ]
  },
  {
   "cell_type": "code",
   "execution_count": 19,
   "metadata": {},
   "outputs": [
    {
     "name": "stdout",
     "output_type": "stream",
     "text": [
      "16.6525423729\r"
     ]
    }
   ],
   "source": [
    "# Função que ajusta a cor sendo filtrada no mask para as cores dentro da mira\n",
    "def reset():\n",
    "    for idx in range(0,3):\n",
    "        low[idx] += (hsv[ponto1[1]:ponto2[1],ponto1[0]:ponto2[0],idx].min() - low[idx]) - fix\n",
    "        high[idx] += (hsv[ponto1[1]:ponto2[1],ponto1[0]:ponto2[0],idx].max() - high[idx]) + fix\n",
    "\n",
    "# Esse for é necessario para a minha camera nao dar pau\n",
    "for x in [1,0]:\n",
    "    webcam = cv2.VideoCapture(x)\n",
    "\n",
    "# While pra fazer a captura de imagem funcionar\n",
    "while True:\n",
    "    time += 1\n",
    "    \n",
    "    val, image = webcam.read()\n",
    "    \n",
    "    # Mudando os canais da imagem para hsv\n",
    "    hsv = cv2.cvtColor(image, cv2.COLOR_BGR2HSV)\n",
    "    \n",
    "    # Chamando a função reset()\n",
    "    reset()\n",
    "    \n",
    "    # Usando mask para filtrar a imagem hsv usando os valores tirados da mira\n",
    "    mask = cv2.inRange(hsv, low, high)\n",
    "    \n",
    "    # Desenhando os contornos no mask\n",
    "    contornos, arvore = cv2.findContours(mask, cv2.RETR_TREE, cv2.CHAIN_APPROX_SIMPLE) \n",
    "    \n",
    "    if len(contornos) >= 1:\n",
    "        # Definindo as variaveis maior_contorno_area e maior_contorno para nao dar 'variavel nao definida'\n",
    "        maior_contorno_area = cv2.contourArea(contornos[0])\n",
    "        maior_contorno = contornos[0]\n",
    "\n",
    "        # Achando o maior contorno na imagem\n",
    "        for cnt in contornos:\n",
    "            if (cv2.contourArea(cnt) > maior_contorno_area):\n",
    "                maior_contorno = cnt\n",
    "                maior_contorno_area = cv2.contourArea(cnt)\n",
    "\n",
    "        denominador = (maior_contorno[:,0,0].max()-maior_contorno[:,0,0].min())\n",
    "                \n",
    "        if denominador > 0:\n",
    "            # Printar a distancia do objeto à tela\n",
    "            print((701.7857142857143/denominador)*2.8,end='\\r')\n",
    "\n",
    "        # Desenhar o maior contorno na tela\n",
    "        cv2.drawContours(image, maior_contorno, -1, [255, 0, 255], 5)\n",
    "    \n",
    "    # Desenhar a 'mira' na tela\n",
    "    cv2.rectangle(image,ponto1,ponto2,(0,255,0),3)\n",
    "    \n",
    "    #Mostrar imagem e mask\n",
    "    cv2.imshow('Image',image)\n",
    "    \n",
    "    ##### AJUDA, O MASK NAO TA SENDO MOSTRADO DIREITO #####\n",
    "    cv2.imshow('Mask',mask)\n",
    "\n",
    "    # Fechar janelas se q for precionado, nao essa linha mas isso sai do while e sair do while fecha as janela\n",
    "    if cv2.waitKey(1) & 0xFF == ord('q'):\n",
    "        break\n",
    "\n",
    "webcam.release() # fecha a webcam\n",
    "cv2.destroyAllWindows()"
   ]
  },
  {
   "cell_type": "code",
   "execution_count": null,
   "metadata": {
    "collapsed": true
   },
   "outputs": [],
   "source": []
  }
 ],
 "metadata": {
  "kernelspec": {
   "display_name": "Python 2",
   "language": "python",
   "name": "python2"
  },
  "language_info": {
   "codemirror_mode": {
    "name": "ipython",
    "version": 2
   },
   "file_extension": ".py",
   "mimetype": "text/x-python",
   "name": "python",
   "nbconvert_exporter": "python",
   "pygments_lexer": "ipython2",
   "version": "2.7.14"
  }
 },
 "nbformat": 4,
 "nbformat_minor": 2
}
